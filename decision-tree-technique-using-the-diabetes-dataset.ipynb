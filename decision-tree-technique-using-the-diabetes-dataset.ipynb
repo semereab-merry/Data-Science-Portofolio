{
 "cells": [
  {
   "cell_type": "code",
   "execution_count": 1,
   "id": "bbf1b069",
   "metadata": {
    "_cell_guid": "b1076dfc-b9ad-4769-8c92-a6c4dae69d19",
    "_uuid": "8f2839f25d086af736a60e9eeb907d3b93b6e0e5",
    "execution": {
     "iopub.execute_input": "2022-11-03T21:49:57.993121Z",
     "iopub.status.busy": "2022-11-03T21:49:57.991010Z",
     "iopub.status.idle": "2022-11-03T21:49:59.547672Z",
     "shell.execute_reply": "2022-11-03T21:49:59.545898Z"
    },
    "papermill": {
     "duration": 1.568474,
     "end_time": "2022-11-03T21:49:59.550228",
     "exception": false,
     "start_time": "2022-11-03T21:49:57.981754",
     "status": "completed"
    },
    "tags": []
   },
   "outputs": [
    {
     "name": "stderr",
     "output_type": "stream",
     "text": [
      "── \u001b[1mAttaching packages\u001b[22m ─────────────────────────────────────── tidyverse 1.3.2 ──\n",
      "\u001b[32m✔\u001b[39m \u001b[34mggplot2\u001b[39m 3.3.6      \u001b[32m✔\u001b[39m \u001b[34mpurrr  \u001b[39m 0.3.5 \n",
      "\u001b[32m✔\u001b[39m \u001b[34mtibble \u001b[39m 3.1.8      \u001b[32m✔\u001b[39m \u001b[34mdplyr  \u001b[39m 1.0.10\n",
      "\u001b[32m✔\u001b[39m \u001b[34mtidyr  \u001b[39m 1.2.1      \u001b[32m✔\u001b[39m \u001b[34mstringr\u001b[39m 1.4.1 \n",
      "\u001b[32m✔\u001b[39m \u001b[34mreadr  \u001b[39m 2.1.3      \u001b[32m✔\u001b[39m \u001b[34mforcats\u001b[39m 0.5.2 \n",
      "── \u001b[1mConflicts\u001b[22m ────────────────────────────────────────── tidyverse_conflicts() ──\n",
      "\u001b[31m✖\u001b[39m \u001b[34mdplyr\u001b[39m::\u001b[32mfilter()\u001b[39m masks \u001b[34mstats\u001b[39m::filter()\n",
      "\u001b[31m✖\u001b[39m \u001b[34mdplyr\u001b[39m::\u001b[32mlag()\u001b[39m    masks \u001b[34mstats\u001b[39m::lag()\n"
     ]
    },
    {
     "data": {
      "text/html": [
       "'diabetes-data-set'"
      ],
      "text/latex": [
       "'diabetes-data-set'"
      ],
      "text/markdown": [
       "'diabetes-data-set'"
      ],
      "text/plain": [
       "[1] \"diabetes-data-set\""
      ]
     },
     "metadata": {},
     "output_type": "display_data"
    }
   ],
   "source": [
    "# This R environment comes with many helpful analytics packages installed\n",
    "# It is defined by the kaggle/rstats Docker image: https://github.com/kaggle/docker-rstats\n",
    "# For example, here's a helpful package to load\n",
    "\n",
    "library(tidyverse) # metapackage of all tidyverse packages\n",
    "\n",
    "# Input data files are available in the read-only \"../input/\" directory\n",
    "# For example, running this (by clicking run or pressing Shift+Enter) will list all files under the input directory\n",
    "\n",
    "list.files(path = \"../input\")\n",
    "\n",
    "# You can write up to 20GB to the current directory (/kaggle/working/) that gets preserved as output when you create a version using \"Save & Run All\" \n",
    "# You can also write temporary files to /kaggle/temp/, but they won't be saved outside of the current session"
   ]
  },
  {
   "cell_type": "markdown",
   "id": "d82505a0",
   "metadata": {
    "papermill": {
     "duration": 0.005846,
     "end_time": "2022-11-03T21:49:59.562147",
     "exception": false,
     "start_time": "2022-11-03T21:49:59.556301",
     "status": "completed"
    },
    "tags": []
   },
   "source": [
    "# Decision Tree Technique using the Diabetes dataset"
   ]
  },
  {
   "cell_type": "markdown",
   "id": "60e6afa6",
   "metadata": {
    "papermill": {
     "duration": 0.005804,
     "end_time": "2022-11-03T21:49:59.573926",
     "exception": false,
     "start_time": "2022-11-03T21:49:59.568122",
     "status": "completed"
    },
    "tags": []
   },
   "source": [
    "## About Dataset\n",
    "This dataset is originally from the National Institute of Diabetes and Digestive and Kidney Diseases. The objective is to predict based on diagnostic measurements whether a patient has diabetes. [Link to the dataset.](https://www.kaggle.com/datasets/mathchi/diabetes-data-set) "
   ]
  },
  {
   "cell_type": "markdown",
   "id": "145ca96a",
   "metadata": {
    "papermill": {
     "duration": 0.005949,
     "end_time": "2022-11-03T21:49:59.585629",
     "exception": false,
     "start_time": "2022-11-03T21:49:59.579680",
     "status": "completed"
    },
    "tags": []
   },
   "source": [
    "## Overview \n",
    "I used decision tree to determine whether the person has diabetes or not. The model is useful for doctors to make a prediction and recommend the user on the best option for testing. "
   ]
  },
  {
   "cell_type": "markdown",
   "id": "b2e9499c",
   "metadata": {
    "papermill": {
     "duration": 0.005883,
     "end_time": "2022-11-03T21:49:59.597307",
     "exception": false,
     "start_time": "2022-11-03T21:49:59.591424",
     "status": "completed"
    },
    "tags": []
   },
   "source": [
    "## Data loading and understanding"
   ]
  },
  {
   "cell_type": "markdown",
   "id": "f2973d6e",
   "metadata": {
    "papermill": {
     "duration": 0.005831,
     "end_time": "2022-11-03T21:49:59.608968",
     "exception": false,
     "start_time": "2022-11-03T21:49:59.603137",
     "status": "completed"
    },
    "tags": []
   },
   "source": [
    "Reading dataset from link"
   ]
  },
  {
   "cell_type": "code",
   "execution_count": 2,
   "id": "6b563e66",
   "metadata": {
    "execution": {
     "iopub.execute_input": "2022-11-03T21:49:59.653879Z",
     "iopub.status.busy": "2022-11-03T21:49:59.623084Z",
     "iopub.status.idle": "2022-11-03T21:49:59.683096Z",
     "shell.execute_reply": "2022-11-03T21:49:59.681126Z"
    },
    "papermill": {
     "duration": 0.070851,
     "end_time": "2022-11-03T21:49:59.685993",
     "exception": false,
     "start_time": "2022-11-03T21:49:59.615142",
     "status": "completed"
    },
    "tags": []
   },
   "outputs": [],
   "source": [
    "diabetes<- read.csv(\"../input/diabetes-data-set/diabetes.csv\")"
   ]
  },
  {
   "cell_type": "markdown",
   "id": "544c2b46",
   "metadata": {
    "papermill": {
     "duration": 0.00657,
     "end_time": "2022-11-03T21:49:59.699128",
     "exception": false,
     "start_time": "2022-11-03T21:49:59.692558",
     "status": "completed"
    },
    "tags": []
   },
   "source": [
    "Data understanding"
   ]
  },
  {
   "cell_type": "code",
   "execution_count": 3,
   "id": "9d5097dc",
   "metadata": {
    "execution": {
     "iopub.execute_input": "2022-11-03T21:49:59.714562Z",
     "iopub.status.busy": "2022-11-03T21:49:59.712989Z",
     "iopub.status.idle": "2022-11-03T21:49:59.746779Z",
     "shell.execute_reply": "2022-11-03T21:49:59.744719Z"
    },
    "papermill": {
     "duration": 0.044504,
     "end_time": "2022-11-03T21:49:59.749533",
     "exception": false,
     "start_time": "2022-11-03T21:49:59.705029",
     "status": "completed"
    },
    "tags": []
   },
   "outputs": [
    {
     "data": {
      "text/html": [
       "<table class=\"dataframe\">\n",
       "<caption>A data.frame: 6 × 9</caption>\n",
       "<thead>\n",
       "\t<tr><th></th><th scope=col>Pregnancies</th><th scope=col>Glucose</th><th scope=col>BloodPressure</th><th scope=col>SkinThickness</th><th scope=col>Insulin</th><th scope=col>BMI</th><th scope=col>DiabetesPedigreeFunction</th><th scope=col>Age</th><th scope=col>Outcome</th></tr>\n",
       "\t<tr><th></th><th scope=col>&lt;int&gt;</th><th scope=col>&lt;int&gt;</th><th scope=col>&lt;int&gt;</th><th scope=col>&lt;int&gt;</th><th scope=col>&lt;int&gt;</th><th scope=col>&lt;dbl&gt;</th><th scope=col>&lt;dbl&gt;</th><th scope=col>&lt;int&gt;</th><th scope=col>&lt;int&gt;</th></tr>\n",
       "</thead>\n",
       "<tbody>\n",
       "\t<tr><th scope=row>1</th><td>6</td><td>148</td><td>72</td><td>35</td><td>  0</td><td>33.6</td><td>0.627</td><td>50</td><td>1</td></tr>\n",
       "\t<tr><th scope=row>2</th><td>1</td><td> 85</td><td>66</td><td>29</td><td>  0</td><td>26.6</td><td>0.351</td><td>31</td><td>0</td></tr>\n",
       "\t<tr><th scope=row>3</th><td>8</td><td>183</td><td>64</td><td> 0</td><td>  0</td><td>23.3</td><td>0.672</td><td>32</td><td>1</td></tr>\n",
       "\t<tr><th scope=row>4</th><td>1</td><td> 89</td><td>66</td><td>23</td><td> 94</td><td>28.1</td><td>0.167</td><td>21</td><td>0</td></tr>\n",
       "\t<tr><th scope=row>5</th><td>0</td><td>137</td><td>40</td><td>35</td><td>168</td><td>43.1</td><td>2.288</td><td>33</td><td>1</td></tr>\n",
       "\t<tr><th scope=row>6</th><td>5</td><td>116</td><td>74</td><td> 0</td><td>  0</td><td>25.6</td><td>0.201</td><td>30</td><td>0</td></tr>\n",
       "</tbody>\n",
       "</table>\n"
      ],
      "text/latex": [
       "A data.frame: 6 × 9\n",
       "\\begin{tabular}{r|lllllllll}\n",
       "  & Pregnancies & Glucose & BloodPressure & SkinThickness & Insulin & BMI & DiabetesPedigreeFunction & Age & Outcome\\\\\n",
       "  & <int> & <int> & <int> & <int> & <int> & <dbl> & <dbl> & <int> & <int>\\\\\n",
       "\\hline\n",
       "\t1 & 6 & 148 & 72 & 35 &   0 & 33.6 & 0.627 & 50 & 1\\\\\n",
       "\t2 & 1 &  85 & 66 & 29 &   0 & 26.6 & 0.351 & 31 & 0\\\\\n",
       "\t3 & 8 & 183 & 64 &  0 &   0 & 23.3 & 0.672 & 32 & 1\\\\\n",
       "\t4 & 1 &  89 & 66 & 23 &  94 & 28.1 & 0.167 & 21 & 0\\\\\n",
       "\t5 & 0 & 137 & 40 & 35 & 168 & 43.1 & 2.288 & 33 & 1\\\\\n",
       "\t6 & 5 & 116 & 74 &  0 &   0 & 25.6 & 0.201 & 30 & 0\\\\\n",
       "\\end{tabular}\n"
      ],
      "text/markdown": [
       "\n",
       "A data.frame: 6 × 9\n",
       "\n",
       "| <!--/--> | Pregnancies &lt;int&gt; | Glucose &lt;int&gt; | BloodPressure &lt;int&gt; | SkinThickness &lt;int&gt; | Insulin &lt;int&gt; | BMI &lt;dbl&gt; | DiabetesPedigreeFunction &lt;dbl&gt; | Age &lt;int&gt; | Outcome &lt;int&gt; |\n",
       "|---|---|---|---|---|---|---|---|---|---|\n",
       "| 1 | 6 | 148 | 72 | 35 |   0 | 33.6 | 0.627 | 50 | 1 |\n",
       "| 2 | 1 |  85 | 66 | 29 |   0 | 26.6 | 0.351 | 31 | 0 |\n",
       "| 3 | 8 | 183 | 64 |  0 |   0 | 23.3 | 0.672 | 32 | 1 |\n",
       "| 4 | 1 |  89 | 66 | 23 |  94 | 28.1 | 0.167 | 21 | 0 |\n",
       "| 5 | 0 | 137 | 40 | 35 | 168 | 43.1 | 2.288 | 33 | 1 |\n",
       "| 6 | 5 | 116 | 74 |  0 |   0 | 25.6 | 0.201 | 30 | 0 |\n",
       "\n"
      ],
      "text/plain": [
       "  Pregnancies Glucose BloodPressure SkinThickness Insulin BMI \n",
       "1 6           148     72            35              0     33.6\n",
       "2 1            85     66            29              0     26.6\n",
       "3 8           183     64             0              0     23.3\n",
       "4 1            89     66            23             94     28.1\n",
       "5 0           137     40            35            168     43.1\n",
       "6 5           116     74             0              0     25.6\n",
       "  DiabetesPedigreeFunction Age Outcome\n",
       "1 0.627                    50  1      \n",
       "2 0.351                    31  0      \n",
       "3 0.672                    32  1      \n",
       "4 0.167                    21  0      \n",
       "5 2.288                    33  1      \n",
       "6 0.201                    30  0      "
      ]
     },
     "metadata": {},
     "output_type": "display_data"
    }
   ],
   "source": [
    "head(diabetes)"
   ]
  },
  {
   "cell_type": "code",
   "execution_count": 4,
   "id": "0ea2251d",
   "metadata": {
    "execution": {
     "iopub.execute_input": "2022-11-03T21:49:59.773163Z",
     "iopub.status.busy": "2022-11-03T21:49:59.771400Z",
     "iopub.status.idle": "2022-11-03T21:49:59.790452Z",
     "shell.execute_reply": "2022-11-03T21:49:59.788622Z"
    },
    "papermill": {
     "duration": 0.037217,
     "end_time": "2022-11-03T21:49:59.793030",
     "exception": false,
     "start_time": "2022-11-03T21:49:59.755813",
     "status": "completed"
    },
    "tags": []
   },
   "outputs": [
    {
     "data": {
      "text/html": [
       "<style>\n",
       ".list-inline {list-style: none; margin:0; padding: 0}\n",
       ".list-inline>li {display: inline-block}\n",
       ".list-inline>li:not(:last-child)::after {content: \"\\00b7\"; padding: 0 .5ex}\n",
       "</style>\n",
       "<ol class=list-inline><li>768</li><li>9</li></ol>\n"
      ],
      "text/latex": [
       "\\begin{enumerate*}\n",
       "\\item 768\n",
       "\\item 9\n",
       "\\end{enumerate*}\n"
      ],
      "text/markdown": [
       "1. 768\n",
       "2. 9\n",
       "\n",
       "\n"
      ],
      "text/plain": [
       "[1] 768   9"
      ]
     },
     "metadata": {},
     "output_type": "display_data"
    }
   ],
   "source": [
    "dim(diabetes)"
   ]
  },
  {
   "cell_type": "markdown",
   "id": "5e0ef43b",
   "metadata": {
    "papermill": {
     "duration": 0.006334,
     "end_time": "2022-11-03T21:49:59.806212",
     "exception": false,
     "start_time": "2022-11-03T21:49:59.799878",
     "status": "completed"
    },
    "tags": []
   },
   "source": [
    "#### Analysis: \n",
    "The dataset has 768 instances and 9 variables. "
   ]
  },
  {
   "cell_type": "code",
   "execution_count": 5,
   "id": "77f6fcdc",
   "metadata": {
    "execution": {
     "iopub.execute_input": "2022-11-03T21:49:59.821799Z",
     "iopub.status.busy": "2022-11-03T21:49:59.820251Z",
     "iopub.status.idle": "2022-11-03T21:49:59.850664Z",
     "shell.execute_reply": "2022-11-03T21:49:59.841894Z"
    },
    "papermill": {
     "duration": 0.041944,
     "end_time": "2022-11-03T21:49:59.854309",
     "exception": false,
     "start_time": "2022-11-03T21:49:59.812365",
     "status": "completed"
    },
    "tags": []
   },
   "outputs": [
    {
     "data": {
      "text/plain": [
       "  Pregnancies        Glucose      BloodPressure    SkinThickness  \n",
       " Min.   : 0.000   Min.   :  0.0   Min.   :  0.00   Min.   : 0.00  \n",
       " 1st Qu.: 1.000   1st Qu.: 99.0   1st Qu.: 62.00   1st Qu.: 0.00  \n",
       " Median : 3.000   Median :117.0   Median : 72.00   Median :23.00  \n",
       " Mean   : 3.845   Mean   :120.9   Mean   : 69.11   Mean   :20.54  \n",
       " 3rd Qu.: 6.000   3rd Qu.:140.2   3rd Qu.: 80.00   3rd Qu.:32.00  \n",
       " Max.   :17.000   Max.   :199.0   Max.   :122.00   Max.   :99.00  \n",
       "    Insulin           BMI        DiabetesPedigreeFunction      Age       \n",
       " Min.   :  0.0   Min.   : 0.00   Min.   :0.0780           Min.   :21.00  \n",
       " 1st Qu.:  0.0   1st Qu.:27.30   1st Qu.:0.2437           1st Qu.:24.00  \n",
       " Median : 30.5   Median :32.00   Median :0.3725           Median :29.00  \n",
       " Mean   : 79.8   Mean   :31.99   Mean   :0.4719           Mean   :33.24  \n",
       " 3rd Qu.:127.2   3rd Qu.:36.60   3rd Qu.:0.6262           3rd Qu.:41.00  \n",
       " Max.   :846.0   Max.   :67.10   Max.   :2.4200           Max.   :81.00  \n",
       "    Outcome     \n",
       " Min.   :0.000  \n",
       " 1st Qu.:0.000  \n",
       " Median :0.000  \n",
       " Mean   :0.349  \n",
       " 3rd Qu.:1.000  \n",
       " Max.   :1.000  "
      ]
     },
     "metadata": {},
     "output_type": "display_data"
    }
   ],
   "source": [
    "summary(diabetes)"
   ]
  },
  {
   "cell_type": "markdown",
   "id": "6a078f25",
   "metadata": {
    "papermill": {
     "duration": 0.006627,
     "end_time": "2022-11-03T21:49:59.868315",
     "exception": false,
     "start_time": "2022-11-03T21:49:59.861688",
     "status": "completed"
    },
    "tags": []
   },
   "source": [
    "#### Analysis: \n",
    "The class label is the variable *'Outcome'*. We have to factorize the class label to predict the values."
   ]
  },
  {
   "cell_type": "code",
   "execution_count": 6,
   "id": "49e8ffbf",
   "metadata": {
    "execution": {
     "iopub.execute_input": "2022-11-03T21:49:59.885044Z",
     "iopub.status.busy": "2022-11-03T21:49:59.883291Z",
     "iopub.status.idle": "2022-11-03T21:49:59.907665Z",
     "shell.execute_reply": "2022-11-03T21:49:59.905864Z"
    },
    "papermill": {
     "duration": 0.035291,
     "end_time": "2022-11-03T21:49:59.910038",
     "exception": false,
     "start_time": "2022-11-03T21:49:59.874747",
     "status": "completed"
    },
    "tags": []
   },
   "outputs": [
    {
     "data": {
      "text/plain": [
       "  Pregnancies        Glucose      BloodPressure    SkinThickness  \n",
       " Min.   : 0.000   Min.   :  0.0   Min.   :  0.00   Min.   : 0.00  \n",
       " 1st Qu.: 1.000   1st Qu.: 99.0   1st Qu.: 62.00   1st Qu.: 0.00  \n",
       " Median : 3.000   Median :117.0   Median : 72.00   Median :23.00  \n",
       " Mean   : 3.845   Mean   :120.9   Mean   : 69.11   Mean   :20.54  \n",
       " 3rd Qu.: 6.000   3rd Qu.:140.2   3rd Qu.: 80.00   3rd Qu.:32.00  \n",
       " Max.   :17.000   Max.   :199.0   Max.   :122.00   Max.   :99.00  \n",
       "    Insulin           BMI        DiabetesPedigreeFunction      Age       \n",
       " Min.   :  0.0   Min.   : 0.00   Min.   :0.0780           Min.   :21.00  \n",
       " 1st Qu.:  0.0   1st Qu.:27.30   1st Qu.:0.2437           1st Qu.:24.00  \n",
       " Median : 30.5   Median :32.00   Median :0.3725           Median :29.00  \n",
       " Mean   : 79.8   Mean   :31.99   Mean   :0.4719           Mean   :33.24  \n",
       " 3rd Qu.:127.2   3rd Qu.:36.60   3rd Qu.:0.6262           3rd Qu.:41.00  \n",
       " Max.   :846.0   Max.   :67.10   Max.   :2.4200           Max.   :81.00  \n",
       " Outcome\n",
       " 0:500  \n",
       " 1:268  \n",
       "        \n",
       "        \n",
       "        \n",
       "        "
      ]
     },
     "metadata": {},
     "output_type": "display_data"
    }
   ],
   "source": [
    "diabetes$Outcome= as.factor(diabetes$Outcome)\n",
    "summary(diabetes)"
   ]
  },
  {
   "cell_type": "markdown",
   "id": "5271e6f7",
   "metadata": {
    "papermill": {
     "duration": 0.006724,
     "end_time": "2022-11-03T21:49:59.924310",
     "exception": false,
     "start_time": "2022-11-03T21:49:59.917586",
     "status": "completed"
    },
    "tags": []
   },
   "source": [
    "#### Analysis: \n",
    "After the class label is factorized, we can see that the outcome result is either 0 or 1. There are 500 of False (0) outcomes and 268 of True (1) outcomes. "
   ]
  },
  {
   "cell_type": "markdown",
   "id": "2aae43b0",
   "metadata": {
    "papermill": {
     "duration": 0.006653,
     "end_time": "2022-11-03T21:49:59.937516",
     "exception": false,
     "start_time": "2022-11-03T21:49:59.930863",
     "status": "completed"
    },
    "tags": []
   },
   "source": [
    "## Sampling\n",
    "For sampling, we will use caTools and use 80% of the data for training and the remaining for testing. "
   ]
  },
  {
   "cell_type": "code",
   "execution_count": 7,
   "id": "06b4e70b",
   "metadata": {
    "execution": {
     "iopub.execute_input": "2022-11-03T21:49:59.954648Z",
     "iopub.status.busy": "2022-11-03T21:49:59.952918Z",
     "iopub.status.idle": "2022-11-03T21:50:00.019768Z",
     "shell.execute_reply": "2022-11-03T21:50:00.017885Z"
    },
    "papermill": {
     "duration": 0.077946,
     "end_time": "2022-11-03T21:50:00.022319",
     "exception": false,
     "start_time": "2022-11-03T21:49:59.944373",
     "status": "completed"
    },
    "tags": []
   },
   "outputs": [],
   "source": [
    "library(caTools)\n",
    "sample = sample.split(diabetes$Outcome, SplitRatio = 0.8)\n",
    "train = subset(diabetes, sample == TRUE)\n",
    "test  = subset(diabetes, sample == FALSE)"
   ]
  },
  {
   "cell_type": "code",
   "execution_count": 8,
   "id": "c68e74e1",
   "metadata": {
    "execution": {
     "iopub.execute_input": "2022-11-03T21:50:00.039524Z",
     "iopub.status.busy": "2022-11-03T21:50:00.037954Z",
     "iopub.status.idle": "2022-11-03T21:50:00.058603Z",
     "shell.execute_reply": "2022-11-03T21:50:00.056238Z"
    },
    "papermill": {
     "duration": 0.032775,
     "end_time": "2022-11-03T21:50:00.061740",
     "exception": false,
     "start_time": "2022-11-03T21:50:00.028965",
     "status": "completed"
    },
    "tags": []
   },
   "outputs": [
    {
     "data": {
      "text/html": [
       "<style>\n",
       ".list-inline {list-style: none; margin:0; padding: 0}\n",
       ".list-inline>li {display: inline-block}\n",
       ".list-inline>li:not(:last-child)::after {content: \"\\00b7\"; padding: 0 .5ex}\n",
       "</style>\n",
       "<ol class=list-inline><li>614</li><li>9</li></ol>\n"
      ],
      "text/latex": [
       "\\begin{enumerate*}\n",
       "\\item 614\n",
       "\\item 9\n",
       "\\end{enumerate*}\n"
      ],
      "text/markdown": [
       "1. 614\n",
       "2. 9\n",
       "\n",
       "\n"
      ],
      "text/plain": [
       "[1] 614   9"
      ]
     },
     "metadata": {},
     "output_type": "display_data"
    }
   ],
   "source": [
    "dim(train)"
   ]
  },
  {
   "cell_type": "code",
   "execution_count": 9,
   "id": "9e3a807c",
   "metadata": {
    "execution": {
     "iopub.execute_input": "2022-11-03T21:50:00.079259Z",
     "iopub.status.busy": "2022-11-03T21:50:00.077692Z",
     "iopub.status.idle": "2022-11-03T21:50:00.096645Z",
     "shell.execute_reply": "2022-11-03T21:50:00.094477Z"
    },
    "papermill": {
     "duration": 0.030548,
     "end_time": "2022-11-03T21:50:00.099555",
     "exception": false,
     "start_time": "2022-11-03T21:50:00.069007",
     "status": "completed"
    },
    "tags": []
   },
   "outputs": [
    {
     "data": {
      "text/html": [
       "<style>\n",
       ".list-inline {list-style: none; margin:0; padding: 0}\n",
       ".list-inline>li {display: inline-block}\n",
       ".list-inline>li:not(:last-child)::after {content: \"\\00b7\"; padding: 0 .5ex}\n",
       "</style>\n",
       "<ol class=list-inline><li>154</li><li>9</li></ol>\n"
      ],
      "text/latex": [
       "\\begin{enumerate*}\n",
       "\\item 154\n",
       "\\item 9\n",
       "\\end{enumerate*}\n"
      ],
      "text/markdown": [
       "1. 154\n",
       "2. 9\n",
       "\n",
       "\n"
      ],
      "text/plain": [
       "[1] 154   9"
      ]
     },
     "metadata": {},
     "output_type": "display_data"
    }
   ],
   "source": [
    "dim(test)"
   ]
  },
  {
   "cell_type": "markdown",
   "id": "17a4a4bf",
   "metadata": {
    "papermill": {
     "duration": 0.006999,
     "end_time": "2022-11-03T21:50:00.113205",
     "exception": false,
     "start_time": "2022-11-03T21:50:00.106206",
     "status": "completed"
    },
    "tags": []
   },
   "source": [
    "##### Analysis: \n",
    "614 instances will be used for training and 154 for testing. "
   ]
  },
  {
   "cell_type": "markdown",
   "id": "d1f8df47",
   "metadata": {
    "papermill": {
     "duration": 0.006912,
     "end_time": "2022-11-03T21:50:00.127032",
     "exception": false,
     "start_time": "2022-11-03T21:50:00.120120",
     "status": "completed"
    },
    "tags": []
   },
   "source": [
    "## Model building\n",
    "ctree() function was used to build the model with the training dataset. To figure the best attributes for model training, we use information.gain() function from FSeclector library. "
   ]
  },
  {
   "cell_type": "code",
   "execution_count": 10,
   "id": "00ce706a",
   "metadata": {
    "execution": {
     "iopub.execute_input": "2022-11-03T21:50:00.144478Z",
     "iopub.status.busy": "2022-11-03T21:50:00.142926Z",
     "iopub.status.idle": "2022-11-03T21:51:08.218458Z",
     "shell.execute_reply": "2022-11-03T21:51:08.216423Z"
    },
    "papermill": {
     "duration": 68.095068,
     "end_time": "2022-11-03T21:51:08.229131",
     "exception": false,
     "start_time": "2022-11-03T21:50:00.134063",
     "status": "completed"
    },
    "tags": []
   },
   "outputs": [
    {
     "name": "stderr",
     "output_type": "stream",
     "text": [
      "Installing package into ‘/usr/local/lib/R/site-library’\n",
      "(as ‘lib’ is unspecified)\n",
      "\n",
      "also installing the dependencies ‘RWekajars’, ‘rJava’, ‘RWeka’\n",
      "\n",
      "\n"
     ]
    },
    {
     "data": {
      "text/html": [
       "<table class=\"dataframe\">\n",
       "<caption>A data.frame: 8 × 1</caption>\n",
       "<thead>\n",
       "\t<tr><th></th><th scope=col>attr_importance</th></tr>\n",
       "\t<tr><th></th><th scope=col>&lt;dbl&gt;</th></tr>\n",
       "</thead>\n",
       "<tbody>\n",
       "\t<tr><th scope=row>Pregnancies</th><td>0.02501712</td></tr>\n",
       "\t<tr><th scope=row>Glucose</th><td>0.11303987</td></tr>\n",
       "\t<tr><th scope=row>BloodPressure</th><td>0.00000000</td></tr>\n",
       "\t<tr><th scope=row>SkinThickness</th><td>0.00000000</td></tr>\n",
       "\t<tr><th scope=row>Insulin</th><td>0.00000000</td></tr>\n",
       "\t<tr><th scope=row>BMI</th><td>0.04650752</td></tr>\n",
       "\t<tr><th scope=row>DiabetesPedigreeFunction</th><td>0.00000000</td></tr>\n",
       "\t<tr><th scope=row>Age</th><td>0.05139881</td></tr>\n",
       "</tbody>\n",
       "</table>\n"
      ],
      "text/latex": [
       "A data.frame: 8 × 1\n",
       "\\begin{tabular}{r|l}\n",
       "  & attr\\_importance\\\\\n",
       "  & <dbl>\\\\\n",
       "\\hline\n",
       "\tPregnancies & 0.02501712\\\\\n",
       "\tGlucose & 0.11303987\\\\\n",
       "\tBloodPressure & 0.00000000\\\\\n",
       "\tSkinThickness & 0.00000000\\\\\n",
       "\tInsulin & 0.00000000\\\\\n",
       "\tBMI & 0.04650752\\\\\n",
       "\tDiabetesPedigreeFunction & 0.00000000\\\\\n",
       "\tAge & 0.05139881\\\\\n",
       "\\end{tabular}\n"
      ],
      "text/markdown": [
       "\n",
       "A data.frame: 8 × 1\n",
       "\n",
       "| <!--/--> | attr_importance &lt;dbl&gt; |\n",
       "|---|---|\n",
       "| Pregnancies | 0.02501712 |\n",
       "| Glucose | 0.11303987 |\n",
       "| BloodPressure | 0.00000000 |\n",
       "| SkinThickness | 0.00000000 |\n",
       "| Insulin | 0.00000000 |\n",
       "| BMI | 0.04650752 |\n",
       "| DiabetesPedigreeFunction | 0.00000000 |\n",
       "| Age | 0.05139881 |\n",
       "\n"
      ],
      "text/plain": [
       "                         attr_importance\n",
       "Pregnancies              0.02501712     \n",
       "Glucose                  0.11303987     \n",
       "BloodPressure            0.00000000     \n",
       "SkinThickness            0.00000000     \n",
       "Insulin                  0.00000000     \n",
       "BMI                      0.04650752     \n",
       "DiabetesPedigreeFunction 0.00000000     \n",
       "Age                      0.05139881     "
      ]
     },
     "metadata": {},
     "output_type": "display_data"
    }
   ],
   "source": [
    "install.packages('FSelector')\n",
    "library('FSelector')\n",
    "best_attr<- information.gain(Outcome ~ . , data=train)\n",
    "## this will give the features with their importance number, the greater the number the more important it is\n",
    "best_attr"
   ]
  },
  {
   "cell_type": "code",
   "execution_count": 11,
   "id": "a49caad2",
   "metadata": {
    "execution": {
     "iopub.execute_input": "2022-11-03T21:51:08.249661Z",
     "iopub.status.busy": "2022-11-03T21:51:08.247629Z",
     "iopub.status.idle": "2022-11-03T21:51:10.457000Z",
     "shell.execute_reply": "2022-11-03T21:51:10.454844Z"
    },
    "papermill": {
     "duration": 2.223706,
     "end_time": "2022-11-03T21:51:10.460561",
     "exception": false,
     "start_time": "2022-11-03T21:51:08.236855",
     "status": "completed"
    },
    "tags": []
   },
   "outputs": [
    {
     "name": "stderr",
     "output_type": "stream",
     "text": [
      "Loading required package: grid\n",
      "\n",
      "Loading required package: mvtnorm\n",
      "\n",
      "Loading required package: modeltools\n",
      "\n",
      "Loading required package: stats4\n",
      "\n",
      "Loading required package: strucchange\n",
      "\n",
      "Loading required package: zoo\n",
      "\n",
      "\n",
      "Attaching package: ‘zoo’\n",
      "\n",
      "\n",
      "The following objects are masked from ‘package:base’:\n",
      "\n",
      "    as.Date, as.Date.numeric\n",
      "\n",
      "\n",
      "Loading required package: sandwich\n",
      "\n",
      "\n",
      "Attaching package: ‘strucchange’\n",
      "\n",
      "\n",
      "The following object is masked from ‘package:stringr’:\n",
      "\n",
      "    boundary\n",
      "\n",
      "\n"
     ]
    },
    {
     "data": {
      "text/plain": [
       "\n",
       "\t Conditional inference tree with 8 terminal nodes\n",
       "\n",
       "Response:  Outcome \n",
       "Inputs:  Glucose, Insulin, Age, BMI \n",
       "Number of observations:  614 \n",
       "\n",
       "1) Glucose <= 142; criterion = 1, statistic = 122.139\n",
       "  2) BMI <= 26.3; criterion = 1, statistic = 22.675\n",
       "    3) BMI <= 0; criterion = 0.951, statistic = 6.232\n",
       "      4)*  weights = 9 \n",
       "    3) BMI > 0\n",
       "      5)*  weights = 107 \n",
       "  2) BMI > 26.3\n",
       "    6) Glucose <= 94; criterion = 1, statistic = 16.252\n",
       "      7) Glucose <= 65; criterion = 0.956, statistic = 6.447\n",
       "        8)*  weights = 7 \n",
       "      7) Glucose > 65\n",
       "        9)*  weights = 78 \n",
       "    6) Glucose > 94\n",
       "      10)*  weights = 273 \n",
       "1) Glucose > 142\n",
       "  11) Glucose <= 154; criterion = 0.955, statistic = 6.414\n",
       "    12) Age <= 42; criterion = 0.957, statistic = 6.485\n",
       "      13)*  weights = 31 \n",
       "    12) Age > 42\n",
       "      14)*  weights = 15 \n",
       "  11) Glucose > 154\n",
       "    15)*  weights = 94 "
      ]
     },
     "metadata": {},
     "output_type": "display_data"
    }
   ],
   "source": [
    "library(party)\n",
    "\n",
    "## to build the model, I am using the best 4 attributes.\n",
    "model<- ctree(formula = Outcome ~Glucose+ Insulin+ Age+ BMI, data=train)\n",
    "model"
   ]
  },
  {
   "cell_type": "code",
   "execution_count": 12,
   "id": "ce090a0d",
   "metadata": {
    "execution": {
     "iopub.execute_input": "2022-11-03T21:51:10.480804Z",
     "iopub.status.busy": "2022-11-03T21:51:10.479193Z",
     "iopub.status.idle": "2022-11-03T21:51:10.989268Z",
     "shell.execute_reply": "2022-11-03T21:51:10.986322Z"
    },
    "papermill": {
     "duration": 0.523985,
     "end_time": "2022-11-03T21:51:10.992958",
     "exception": false,
     "start_time": "2022-11-03T21:51:10.468973",
     "status": "completed"
    },
    "tags": []
   },
   "outputs": [
    {
     "data": {
      "image/png": "[encoded data removed]"
     },
     "metadata": {
      "image/png": {
       "height": 420,
       "width": 420
      }
     },
     "output_type": "display_data"
    }
   ],
   "source": [
    "## the graphical representation of the model \n",
    "plot(model)"
   ]
  },
  {
   "cell_type": "markdown",
   "id": "9076df1e",
   "metadata": {
    "papermill": {
     "duration": 0.010728,
     "end_time": "2022-11-03T21:51:11.012973",
     "exception": false,
     "start_time": "2022-11-03T21:51:11.002245",
     "status": "completed"
    },
    "tags": []
   },
   "source": [
    "## Prediction and accuracy test"
   ]
  },
  {
   "cell_type": "code",
   "execution_count": 13,
   "id": "07c0f889",
   "metadata": {
    "execution": {
     "iopub.execute_input": "2022-11-03T21:51:11.040807Z",
     "iopub.status.busy": "2022-11-03T21:51:11.038501Z",
     "iopub.status.idle": "2022-11-03T21:51:11.074591Z",
     "shell.execute_reply": "2022-11-03T21:51:11.071747Z"
    },
    "papermill": {
     "duration": 0.052918,
     "end_time": "2022-11-03T21:51:11.078121",
     "exception": false,
     "start_time": "2022-11-03T21:51:11.025203",
     "status": "completed"
    },
    "tags": []
   },
   "outputs": [
    {
     "data": {
      "text/html": [
       "<style>\n",
       ".list-inline {list-style: none; margin:0; padding: 0}\n",
       ".list-inline>li {display: inline-block}\n",
       ".list-inline>li:not(:last-child)::after {content: \"\\00b7\"; padding: 0 .5ex}\n",
       "</style>\n",
       "<ol class=list-inline><li>1</li><li>1</li><li>0</li><li>0</li><li>1</li><li>1</li><li>1</li><li>0</li><li>1</li><li>0</li><li>0</li><li>0</li><li>0</li><li>0</li><li>0</li><li>0</li><li>1</li><li>0</li><li>0</li><li>0</li><li>0</li><li>0</li><li>0</li><li>0</li><li>0</li><li>0</li><li>0</li><li>0</li><li>1</li><li>0</li><li>0</li><li>1</li><li>0</li><li>0</li><li>0</li><li>1</li><li>0</li><li>1</li><li>0</li><li>0</li><li>0</li><li>0</li><li>1</li><li>0</li><li>0</li><li>1</li><li>0</li><li>0</li><li>0</li><li>0</li><li>0</li><li>0</li><li>0</li><li>1</li><li>0</li><li>0</li><li>1</li><li>0</li><li>0</li><li>0</li><li>0</li><li>0</li><li>1</li><li>0</li><li>0</li><li>0</li><li>1</li><li>0</li><li>0</li><li>0</li><li>0</li><li>1</li><li>0</li><li>0</li><li>0</li><li>0</li><li>0</li><li>0</li><li>1</li><li>1</li><li>0</li><li>0</li><li>1</li><li>0</li><li>0</li><li>0</li><li>1</li><li>0</li><li>0</li><li>0</li><li>0</li><li>0</li><li>0</li><li>0</li><li>0</li><li>0</li><li>1</li><li>0</li><li>0</li><li>0</li><li>0</li><li>0</li><li>0</li><li>0</li><li>0</li><li>0</li><li>0</li><li>0</li><li>0</li><li>0</li><li>0</li><li>0</li><li>0</li><li>0</li><li>1</li><li>0</li><li>0</li><li>0</li><li>0</li><li>0</li><li>0</li><li>0</li><li>0</li><li>0</li><li>0</li><li>0</li><li>0</li><li>0</li><li>0</li><li>0</li><li>0</li><li>1</li><li>0</li><li>0</li><li>0</li><li>1</li><li>1</li><li>1</li><li>0</li><li>0</li><li>0</li><li>0</li><li>1</li><li>0</li><li>0</li><li>1</li><li>0</li><li>0</li><li>0</li><li>0</li><li>1</li><li>0</li><li>1</li><li>0</li></ol>\n",
       "\n",
       "<details>\n",
       "\t<summary style=display:list-item;cursor:pointer>\n",
       "\t\t<strong>Levels</strong>:\n",
       "\t</summary>\n",
       "\t<style>\n",
       "\t.list-inline {list-style: none; margin:0; padding: 0}\n",
       "\t.list-inline>li {display: inline-block}\n",
       "\t.list-inline>li:not(:last-child)::after {content: \"\\00b7\"; padding: 0 .5ex}\n",
       "\t</style>\n",
       "\t<ol class=list-inline><li>'0'</li><li>'1'</li></ol>\n",
       "</details>"
      ],
      "text/latex": [
       "\\begin{enumerate*}\n",
       "\\item 1\n",
       "\\item 1\n",
       "\\item 0\n",
       "\\item 0\n",
       "\\item 1\n",
       "\\item 1\n",
       "\\item 1\n",
       "\\item 0\n",
       "\\item 1\n",
       "\\item 0\n",
       "\\item 0\n",
       "\\item 0\n",
       "\\item 0\n",
       "\\item 0\n",
       "\\item 0\n",
       "\\item 0\n",
       "\\item 1\n",
       "\\item 0\n",
       "\\item 0\n",
       "\\item 0\n",
       "\\item 0\n",
       "\\item 0\n",
       "\\item 0\n",
       "\\item 0\n",
       "\\item 0\n",
       "\\item 0\n",
       "\\item 0\n",
       "\\item 0\n",
       "\\item 1\n",
       "\\item 0\n",
       "\\item 0\n",
       "\\item 1\n",
       "\\item 0\n",
       "\\item 0\n",
       "\\item 0\n",
       "\\item 1\n",
       "\\item 0\n",
       "\\item 1\n",
       "\\item 0\n",
       "\\item 0\n",
       "\\item 0\n",
       "\\item 0\n",
       "\\item 1\n",
       "\\item 0\n",
       "\\item 0\n",
       "\\item 1\n",
       "\\item 0\n",
       "\\item 0\n",
       "\\item 0\n",
       "\\item 0\n",
       "\\item 0\n",
       "\\item 0\n",
       "\\item 0\n",
       "\\item 1\n",
       "\\item 0\n",
       "\\item 0\n",
       "\\item 1\n",
       "\\item 0\n",
       "\\item 0\n",
       "\\item 0\n",
       "\\item 0\n",
       "\\item 0\n",
       "\\item 1\n",
       "\\item 0\n",
       "\\item 0\n",
       "\\item 0\n",
       "\\item 1\n",
       "\\item 0\n",
       "\\item 0\n",
       "\\item 0\n",
       "\\item 0\n",
       "\\item 1\n",
       "\\item 0\n",
       "\\item 0\n",
       "\\item 0\n",
       "\\item 0\n",
       "\\item 0\n",
       "\\item 0\n",
       "\\item 1\n",
       "\\item 1\n",
       "\\item 0\n",
       "\\item 0\n",
       "\\item 1\n",
       "\\item 0\n",
       "\\item 0\n",
       "\\item 0\n",
       "\\item 1\n",
       "\\item 0\n",
       "\\item 0\n",
       "\\item 0\n",
       "\\item 0\n",
       "\\item 0\n",
       "\\item 0\n",
       "\\item 0\n",
       "\\item 0\n",
       "\\item 0\n",
       "\\item 1\n",
       "\\item 0\n",
       "\\item 0\n",
       "\\item 0\n",
       "\\item 0\n",
       "\\item 0\n",
       "\\item 0\n",
       "\\item 0\n",
       "\\item 0\n",
       "\\item 0\n",
       "\\item 0\n",
       "\\item 0\n",
       "\\item 0\n",
       "\\item 0\n",
       "\\item 0\n",
       "\\item 0\n",
       "\\item 0\n",
       "\\item 0\n",
       "\\item 1\n",
       "\\item 0\n",
       "\\item 0\n",
       "\\item 0\n",
       "\\item 0\n",
       "\\item 0\n",
       "\\item 0\n",
       "\\item 0\n",
       "\\item 0\n",
       "\\item 0\n",
       "\\item 0\n",
       "\\item 0\n",
       "\\item 0\n",
       "\\item 0\n",
       "\\item 0\n",
       "\\item 0\n",
       "\\item 0\n",
       "\\item 1\n",
       "\\item 0\n",
       "\\item 0\n",
       "\\item 0\n",
       "\\item 1\n",
       "\\item 1\n",
       "\\item 1\n",
       "\\item 0\n",
       "\\item 0\n",
       "\\item 0\n",
       "\\item 0\n",
       "\\item 1\n",
       "\\item 0\n",
       "\\item 0\n",
       "\\item 1\n",
       "\\item 0\n",
       "\\item 0\n",
       "\\item 0\n",
       "\\item 0\n",
       "\\item 1\n",
       "\\item 0\n",
       "\\item 1\n",
       "\\item 0\n",
       "\\end{enumerate*}\n",
       "\n",
       "\\emph{Levels}: \\begin{enumerate*}\n",
       "\\item '0'\n",
       "\\item '1'\n",
       "\\end{enumerate*}\n"
      ],
      "text/markdown": [
       "1. 1\n",
       "2. 1\n",
       "3. 0\n",
       "4. 0\n",
       "5. 1\n",
       "6. 1\n",
       "7. 1\n",
       "8. 0\n",
       "9. 1\n",
       "10. 0\n",
       "11. 0\n",
       "12. 0\n",
       "13. 0\n",
       "14. 0\n",
       "15. 0\n",
       "16. 0\n",
       "17. 1\n",
       "18. 0\n",
       "19. 0\n",
       "20. 0\n",
       "21. 0\n",
       "22. 0\n",
       "23. 0\n",
       "24. 0\n",
       "25. 0\n",
       "26. 0\n",
       "27. 0\n",
       "28. 0\n",
       "29. 1\n",
       "30. 0\n",
       "31. 0\n",
       "32. 1\n",
       "33. 0\n",
       "34. 0\n",
       "35. 0\n",
       "36. 1\n",
       "37. 0\n",
       "38. 1\n",
       "39. 0\n",
       "40. 0\n",
       "41. 0\n",
       "42. 0\n",
       "43. 1\n",
       "44. 0\n",
       "45. 0\n",
       "46. 1\n",
       "47. 0\n",
       "48. 0\n",
       "49. 0\n",
       "50. 0\n",
       "51. 0\n",
       "52. 0\n",
       "53. 0\n",
       "54. 1\n",
       "55. 0\n",
       "56. 0\n",
       "57. 1\n",
       "58. 0\n",
       "59. 0\n",
       "60. 0\n",
       "61. 0\n",
       "62. 0\n",
       "63. 1\n",
       "64. 0\n",
       "65. 0\n",
       "66. 0\n",
       "67. 1\n",
       "68. 0\n",
       "69. 0\n",
       "70. 0\n",
       "71. 0\n",
       "72. 1\n",
       "73. 0\n",
       "74. 0\n",
       "75. 0\n",
       "76. 0\n",
       "77. 0\n",
       "78. 0\n",
       "79. 1\n",
       "80. 1\n",
       "81. 0\n",
       "82. 0\n",
       "83. 1\n",
       "84. 0\n",
       "85. 0\n",
       "86. 0\n",
       "87. 1\n",
       "88. 0\n",
       "89. 0\n",
       "90. 0\n",
       "91. 0\n",
       "92. 0\n",
       "93. 0\n",
       "94. 0\n",
       "95. 0\n",
       "96. 0\n",
       "97. 1\n",
       "98. 0\n",
       "99. 0\n",
       "100. 0\n",
       "101. 0\n",
       "102. 0\n",
       "103. 0\n",
       "104. 0\n",
       "105. 0\n",
       "106. 0\n",
       "107. 0\n",
       "108. 0\n",
       "109. 0\n",
       "110. 0\n",
       "111. 0\n",
       "112. 0\n",
       "113. 0\n",
       "114. 0\n",
       "115. 1\n",
       "116. 0\n",
       "117. 0\n",
       "118. 0\n",
       "119. 0\n",
       "120. 0\n",
       "121. 0\n",
       "122. 0\n",
       "123. 0\n",
       "124. 0\n",
       "125. 0\n",
       "126. 0\n",
       "127. 0\n",
       "128. 0\n",
       "129. 0\n",
       "130. 0\n",
       "131. 0\n",
       "132. 1\n",
       "133. 0\n",
       "134. 0\n",
       "135. 0\n",
       "136. 1\n",
       "137. 1\n",
       "138. 1\n",
       "139. 0\n",
       "140. 0\n",
       "141. 0\n",
       "142. 0\n",
       "143. 1\n",
       "144. 0\n",
       "145. 0\n",
       "146. 1\n",
       "147. 0\n",
       "148. 0\n",
       "149. 0\n",
       "150. 0\n",
       "151. 1\n",
       "152. 0\n",
       "153. 1\n",
       "154. 0\n",
       "\n",
       "\n",
       "\n",
       "**Levels**: 1. '0'\n",
       "2. '1'\n",
       "\n",
       "\n"
      ],
      "text/plain": [
       "  [1] 1 1 0 0 1 1 1 0 1 0 0 0 0 0 0 0 1 0 0 0 0 0 0 0 0 0 0 0 1 0 0 1 0 0 0 1 0\n",
       " [38] 1 0 0 0 0 1 0 0 1 0 0 0 0 0 0 0 1 0 0 1 0 0 0 0 0 1 0 0 0 1 0 0 0 0 1 0 0\n",
       " [75] 0 0 0 0 1 1 0 0 1 0 0 0 1 0 0 0 0 0 0 0 0 0 1 0 0 0 0 0 0 0 0 0 0 0 0 0 0\n",
       "[112] 0 0 0 1 0 0 0 0 0 0 0 0 0 0 0 0 0 0 0 0 1 0 0 0 1 1 1 0 0 0 0 1 0 0 1 0 0\n",
       "[149] 0 0 1 0 1 0\n",
       "Levels: 0 1"
      ]
     },
     "metadata": {},
     "output_type": "display_data"
    }
   ],
   "source": [
    "# predict the test dataset using the model we built\n",
    "pred <- predict(model, newdata = test)\n",
    "pred"
   ]
  },
  {
   "cell_type": "code",
   "execution_count": 14,
   "id": "186ef520",
   "metadata": {
    "execution": {
     "iopub.execute_input": "2022-11-03T21:51:11.109524Z",
     "iopub.status.busy": "2022-11-03T21:51:11.107881Z",
     "iopub.status.idle": "2022-11-03T21:51:11.127635Z",
     "shell.execute_reply": "2022-11-03T21:51:11.125914Z"
    },
    "papermill": {
     "duration": 0.041265,
     "end_time": "2022-11-03T21:51:11.130130",
     "exception": false,
     "start_time": "2022-11-03T21:51:11.088865",
     "status": "completed"
    },
    "tags": []
   },
   "outputs": [
    {
     "data": {
      "text/plain": [
       "    \n",
       "pred  0  1\n",
       "   0 92 30\n",
       "   1  8 24"
      ]
     },
     "metadata": {},
     "output_type": "display_data"
    }
   ],
   "source": [
    "# confusion matrix to denote the correctly and incorrectly allocated predictions \n",
    "ConfMatrix<- table(pred, test$Outcome)\n",
    "ConfMatrix"
   ]
  },
  {
   "cell_type": "code",
   "execution_count": 15,
   "id": "fd082274",
   "metadata": {
    "execution": {
     "iopub.execute_input": "2022-11-03T21:51:11.154814Z",
     "iopub.status.busy": "2022-11-03T21:51:11.153216Z",
     "iopub.status.idle": "2022-11-03T21:51:11.175331Z",
     "shell.execute_reply": "2022-11-03T21:51:11.173012Z"
    },
    "papermill": {
     "duration": 0.037584,
     "end_time": "2022-11-03T21:51:11.178248",
     "exception": false,
     "start_time": "2022-11-03T21:51:11.140664",
     "status": "completed"
    },
    "tags": []
   },
   "outputs": [
    {
     "data": {
      "text/html": [
       "75.3246753246753"
      ],
      "text/latex": [
       "75.3246753246753"
      ],
      "text/markdown": [
       "75.3246753246753"
      ],
      "text/plain": [
       "[1] 75.32468"
      ]
     },
     "metadata": {},
     "output_type": "display_data"
    }
   ],
   "source": [
    "# measuring the accuracy of the model by building a function\n",
    "modelAccuracy <- function(x){sum(diag(x)/(sum(rowSums(x)))) * 100}\n",
    "modelAccuracy(ConfMatrix)"
   ]
  },
  {
   "cell_type": "markdown",
   "id": "872589a0",
   "metadata": {
    "papermill": {
     "duration": 0.009994,
     "end_time": "2022-11-03T21:51:11.198179",
     "exception": false,
     "start_time": "2022-11-03T21:51:11.188185",
     "status": "completed"
    },
    "tags": []
   },
   "source": [
    "#### Analysis: \n",
    "The model I built is 72% accurate. From the 154 instances that were tested by the model there were 43 errors."
   ]
  }
 ],
 "metadata": {
  "kernelspec": {
   "display_name": "R",
   "language": "R",
   "name": "ir"
  },
  "language_info": {
   "codemirror_mode": "r",
   "file_extension": ".r",
   "mimetype": "text/x-r-source",
   "name": "R",
   "pygments_lexer": "r",
   "version": "4.0.5"
  },
  "papermill": {
   "default_parameters": {},
   "duration": 77.203552,
   "end_time": "2022-11-03T21:51:11.330127",
   "environment_variables": {},
   "exception": null,
   "input_path": "__notebook__.ipynb",
   "output_path": "__notebook__.ipynb",
   "parameters": {},
   "start_time": "2022-11-03T21:49:54.126575",
   "version": "2.4.0"
  }
 },
 "nbformat": 4,
 "nbformat_minor": 5
}
